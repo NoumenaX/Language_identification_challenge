{
 "cells": [
  {
   "cell_type": "markdown",
   "id": "35a3704a",
   "metadata": {},
   "source": [
    "# South Africa - Language Identification Challenge\n",
    "\n",
    "© Explore Data Science Academy\n",
    "\n",
    "### Project Overview\n",
    "South Africa is a multicultural society that is characterised by its rich linguistic diversity. \n",
    "Language is an indispensable tool that can be used to deepen democracy and also contribute to the social, cultural, intellectual, economic and political life of the South African society.\n",
    "The country is multilingual with 11 official languages, each of which is guaranteed equal status. \n",
    "Most South Africans are multilingual and able to speak at least two or more of the official languages.\n",
    "\n",
    "Problem Statement:\n",
    "\n",
    "> Determine the natural language that a piece of text is written in.\n"
   ]
  },
  {
   "cell_type": "markdown",
   "id": "4acb0718",
   "metadata": {},
   "source": [
    "<a id=\"cont\"></a>\n",
    "\n",
    "# Table of Contents\n",
    "\n",
    "<a href=#one>1. Importing Packages</a>\n",
    "\n",
    "<a href=#two>2. Loading Data</a>\n",
    "\n",
    "<a href=#three>3. Data Preprocessing </a>\n",
    "\n",
    "<a href=#four>4. Exploratory Data Analysis(EDA)</a>\n",
    "\n",
    "<a href=#five>5. Modelling</a>\n",
    "\n",
    "<a href=#six>6. Model Performance</a>\n",
    "\n",
    "<a href=#seven>7. Model Explanations</a>"
   ]
  },
  {
   "cell_type": "code",
   "execution_count": null,
   "id": "ac1eabcc",
   "metadata": {},
   "outputs": [],
   "source": []
  }
 ],
 "metadata": {
  "kernelspec": {
   "display_name": "Python 3 (ipykernel)",
   "language": "python",
   "name": "python3"
  },
  "language_info": {
   "codemirror_mode": {
    "name": "ipython",
    "version": 3
   },
   "file_extension": ".py",
   "mimetype": "text/x-python",
   "name": "python",
   "nbconvert_exporter": "python",
   "pygments_lexer": "ipython3",
   "version": "3.9.13"
  }
 },
 "nbformat": 4,
 "nbformat_minor": 5
}
